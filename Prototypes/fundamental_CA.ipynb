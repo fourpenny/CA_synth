{
 "cells": [
  {
   "cell_type": "code",
   "execution_count": 21,
   "id": "3532ffec",
   "metadata": {},
   "outputs": [],
   "source": [
    "#Imports\n",
    "import numpy as np\n",
    "import matplotlib.pyplot as plt"
   ]
  },
  {
   "cell_type": "code",
   "execution_count": 312,
   "id": "8809990a",
   "metadata": {},
   "outputs": [],
   "source": [
    "def to_int(bits):\n",
    "    \"\"\"\n",
    "    Converts a size 3 bit binary index to an integer between 0 and 7.\n",
    "    \n",
    "    input: \n",
    "    \n",
    "    bits - numpy array of size 3 representing the integer\n",
    "    Type: numpy integer array\n",
    "    ex. [0,1,1]\n",
    "    \n",
    "    output: \n",
    "    \n",
    "    rep - an integer representation of the given 3 bit index\n",
    "    Type: int\n",
    "    ex. 3\n",
    "    \"\"\"\n",
    "    rep = int(str(int(bits[0]))+str(int(bits[1]))+str(int(bits[2])), 2)\n",
    "    return rep"
   ]
  },
  {
   "cell_type": "code",
   "execution_count": 313,
   "id": "bfed4d2e",
   "metadata": {},
   "outputs": [],
   "source": [
    "def rule(num, state):\n",
    "    \"\"\"\n",
    "    Takes in a given rule and 3-bit index state to determine the state of an index at a given\n",
    "    time step.\n",
    "    \n",
    "    Essentially this checks if the given binary digit (representing the state)\n",
    "    in the rule number is a 1 or 0. If true, returns a 1, if false returns a 0.\n",
    "    \n",
    "    Inputs:\n",
    "    num - the rule number for the fundamental cellular automaton as an integer\n",
    "    (ranges from 0-255)\n",
    "    Type: int\n",
    "    ex. 254 - b11111110\n",
    "    \n",
    "    state - the integer representation of one of the 8 possible 3-bit index states\n",
    "    (ranges from 0-7)\n",
    "    Type: int\n",
    "    ex. 4\n",
    "    \n",
    "    Output:\n",
    "    bit_val - an integer representing the resulting output of the rule (either 0 or 1)\n",
    "    Type: int\n",
    "    ex. 1\n",
    "    \"\"\"\n",
    "    \n",
    "    bit_val = int((num & (1 << state)) > 0)\n",
    "    return bit_val"
   ]
  },
  {
   "cell_type": "code",
   "execution_count": 319,
   "id": "79ca60c2",
   "metadata": {},
   "outputs": [],
   "source": [
    "def update_edges(arr, rule_num, wrap=True):\n",
    "    \"\"\"\n",
    "    Inputs:\n",
    "    arr - the array you would like to update the edges of\n",
    "    \n",
    "    rule_num - the fundamental CA rule number as an integer\n",
    "    \n",
    "    Outputs:\n",
    "    none, array will update in place\n",
    "    \"\"\"\n",
    "    arr[1, 0] = rule(rule_num, to_int((arr[0,-1], arr[0,0], arr[0,1])))\n",
    "    arr[1, -1] = rule(rule_num, to_int((arr[0,0], arr[0,1], arr[0,-1])))"
   ]
  },
  {
   "cell_type": "code",
   "execution_count": 328,
   "id": "b05e8273",
   "metadata": {},
   "outputs": [],
   "source": [
    "def simulate(time_steps, rule_num, init_cond, size=None):\n",
    "    \"\"\"\n",
    "    Simulates the given fundamental cellular automaton rule for a given number of\n",
    "    time steps\n",
    "    \n",
    "    Inputs:\n",
    "    size - the size of 1d array to apply the CA rule to as an integer\n",
    "    \n",
    "    If this is not included or is smaller than the initial condition, \n",
    "    the size is implied from the initial condition array. \n",
    "    If larger than the initial condition, the initial condition starts at index 0\n",
    "    and the rest of the array is filled in with 0's.\n",
    "    \n",
    "    ex. 5\n",
    "    Type: int\n",
    "    \n",
    "    \n",
    "    time_steps - the number of time steps to simulate for\n",
    "    ex. 7\n",
    "    Type: int\n",
    "    \n",
    "    rule_num - the fundamental CA rule number to apply (ranges from 0-255)\n",
    "    ex. 28\n",
    "    Type: int\n",
    "    \n",
    "    init_cond - the initial condition of the 1d array as a 1d integer numpy array\n",
    "    ex. [0, 0, 1, 0, 0]\n",
    "    Type: numpy array\n",
    "    \n",
    "    \"\"\"\n",
    "    grid = np.array(init_cond)\n",
    "    if size != None or size > init_cond.size:\n",
    "        padding = np.array([0] * (size - init_cond.size))\n",
    "        grid = np.concatenate((grid, padding))\n",
    "    else:\n",
    "        size = init_cond.size\n",
    "    grid = np.expand_dims(grid, 0)\n",
    "    for t in range(time_steps):\n",
    "        grid = np.concatenate((grid, np.zeros((1, size), dtype=int)), axis=0)\n",
    "        for i in range(1, size-1):\n",
    "            #Both ends will be updated later with separate function\n",
    "            bin_state = grid[t, i-1:i+2]\n",
    "            state = to_int(bin_state)\n",
    "            grid[t+1, i] = rule(rule_num, state)\n",
    "        update_edges(grid[t:t+2, :], rule_num)\n",
    "    return grid"
   ]
  },
  {
   "cell_type": "code",
   "execution_count": 342,
   "id": "a9805e8f",
   "metadata": {},
   "outputs": [],
   "source": [
    "impulse = np.array([0, 0, 0, 0, 0, 1, 0, 0, 0, 0, 0])"
   ]
  },
  {
   "cell_type": "code",
   "execution_count": 343,
   "id": "40a262cc",
   "metadata": {},
   "outputs": [],
   "source": [
    "example = simulate(11, 101, impulse, 11)"
   ]
  },
  {
   "cell_type": "code",
   "execution_count": 344,
   "id": "8f7f6a95",
   "metadata": {},
   "outputs": [
    {
     "data": {
      "image/png": "[encoded data removed]",
      "text/plain": [
       "<Figure size 432x288 with 1 Axes>"
      ]
     },
     "metadata": {
      "needs_background": "light"
     },
     "output_type": "display_data"
    }
   ],
   "source": [
    "fig, ax = plt.subplots()\n",
    "\n",
    "ax.imshow(example, cmap='Blues')\n",
    "\n",
    "plt.show()"
   ]
  },
  {
   "cell_type": "code",
   "execution_count": null,
   "id": "09e23b0c",
   "metadata": {},
   "outputs": [],
   "source": []
  }
 ],
 "metadata": {
  "kernelspec": {
   "display_name": "Python 3 (ipykernel)",
   "language": "python",
   "name": "python3"
  },
  "language_info": {
   "codemirror_mode": {
    "name": "ipython",
    "version": 3
   },
   "file_extension": ".py",
   "mimetype": "text/x-python",
   "name": "python",
   "nbconvert_exporter": "python",
   "pygments_lexer": "ipython3",
   "version": "3.8.10"
  }
 },
 "nbformat": 4,
 "nbformat_minor": 5
}
